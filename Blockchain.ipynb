{
 "cells": [
  {
   "cell_type": "markdown",
   "id": "0344a6f9-77bb-4f9e-8172-412a7e4f9a93",
   "metadata": {},
   "source": [
    "# BLOCKCHAIN IMPLEMENTATION USING SHA-3 ALOGORITHM\n",
    "\n",
    ">###  Creating Blockchain using Python, mining new blocks, and displaying the whole blockchain: \n",
    "\n",
    "- The data will be stored in JSON format which is very easy to implement and easy to read. The data is stored in a block and the block contains multiple data. Each and every minute multiple blocks are added and to differentiate one from the other we will use fingerprinting.\n",
    "\n",
    "- The fingerprinting is done by using hash and to be particular we will use the SHA3-512 hashing algorithm. Every block will contain its own hash and also the hash of the previous function so that it cannot get tampered with.\n",
    "\n",
    "- This fingerprinting will be used to chain the blocks together. Every block will be attached to the previous block having its hash and to the next block by giving its hash.\n",
    "\n",
    "- The mining of the new block is done by giving successfully finding the answer to the proof of work. To make mining hard the proof of work must be hard enough to get exploited.\n",
    "\n",
    "- After mining the block successfully the block will then be added to the chain.\n",
    "\n",
    "- After mining several blocks the validity of the chain must be checked in order to prevent any kind of tampering with the blockchain.\n",
    "\n",
    "- Then the web interface will be made by using Fast api and deployed locally or publicly as per the need of the user.\n"
   ]
  },
  {
   "cell_type": "markdown",
   "id": "c9c13d39-7081-4d3b-aaf6-2d2c0413be08",
   "metadata": {},
   "source": [
    "## Libraries used"
   ]
  },
  {
   "cell_type": "code",
   "execution_count": null,
   "id": "bb1a77a4-6f1c-44ee-8a1c-93f7be11903e",
   "metadata": {},
   "outputs": [],
   "source": [
    "import datetime as dt\n",
    "import hashlib \n",
    "import json"
   ]
  },
  {
   "cell_type": "markdown",
   "id": "adebf3bb-bb4f-4964-a380-baeb120a5df2",
   "metadata": {},
   "source": [
    "## Creating genesis block\n",
    "> The genesis block is the first ever block recorded on its respective blockchain network, also occasionally referred to as Block 0 or Block 1. \n",
    "\n",
    "> When a block is broadcasted to the blockchain, it references the previous block. However, in the case of the genesis block, there is no previous block to reference."
   ]
  },
  {
   "cell_type": "code",
   "execution_count": null,
   "id": "88f13d02-7ba2-4492-97db-fe67b6abb61a",
   "metadata": {
    "tags": []
   },
   "outputs": [],
   "source": [
    "\n",
    "    def __init__(self)->None:\n",
    "        self.chain=list()\n",
    "        genesis_block=self.create_block(data=input(\"enter message:\",\n",
    "                                        proof=1,\n",
    "                                        previous_hash=\"0\",\n",
    "                                        index=1)\n",
    "        self.chain.append(genesis_block)\n",
    "        "
   ]
  },
  {
   "cell_type": "markdown",
   "id": "9c304fd2-3cf4-4d7e-9185-94a81b338160",
   "metadata": {},
   "source": [
    "## Mining a block –\n",
    "> Mining a block refers to adding of the block present in the blockchain network. A miner selects a set of transactions from the pool of transactions and then mines the block, or one can say, computes the hash to add the block to the network. If two or more miners mine the same block at the same time, the block with more difficulty is selected. The others are known as stale blocks. Mining usually rewards miners with blockchain currency."
   ]
  },
  {
   "cell_type": "code",
   "execution_count": null,
   "id": "8c0266ac-9f21-4f86-9728-f7224ad9aeb7",
   "metadata": {},
   "outputs": [],
   "source": [
    "      \n",
    "    def mine_block(self, data:str)->dict:\n",
    "        previous_block=self.get_previous_block()\n",
    "        previous_proof=previous_block[\"proof\"]\n",
    "        index=len(self.chain)+1\n",
    "        proof=self.proof_of_work(previous_proof, index, data)\n",
    "        previous_hash=self._hash(block=previous_block)\n",
    "        block=self.create_block(\n",
    "            data=data, proof=proof, previous_hash=previous_hash, index=index\n",
    "        )\n",
    "        self.chain.append(block)\n",
    "        return block"
   ]
  },
  {
   "cell_type": "code",
   "execution_count": null,
   "id": "93d2197a-67dd-4923-92d5-8d7bf6c02f6f",
   "metadata": {},
   "outputs": [],
   "source": [
    "\n",
    "    def _hash(self, block:dict)->str:\n",
    "        encoded_block=json.dumps(block, sort_keys=True).encode()\n",
    "        return hashlib.sha3_512(encoded_block).hexdigest()\n",
    "    \n"
   ]
  },
  {
   "cell_type": "markdown",
   "id": "66cefe08-fc8d-4abc-b521-5014b72c1ccd",
   "metadata": {},
   "source": [
    "## Proof-of-Work Hash Functions\n",
    "> Blockchain proof-of-work mining algorithms use a special class of hash functions which are computational-intensive and memory-intensive. These hash functions are designed to consume a lot of computational resources and a lot of memory and to be very hard to be implemented in a hardware devices"
   ]
  },
  {
   "cell_type": "code",
   "execution_count": null,
   "id": "02ca89e3-3e52-4603-a42a-360462cdb0ac",
   "metadata": {},
   "outputs": [],
   "source": [
    "  \n",
    "        \n",
    "    def to_digest(self, new_proof:int, previous_proof:int, index:str, data:str)->bytes:\n",
    "        to_digest=str(new_proof**2-previous_proof**2+index)+data\n",
    "        return to_digest.encode()\n",
    "    \n",
    "    \n",
    "    def proof_of_work(self, previous_proof:str,index:int,data:str)->int:\n",
    "        new_proof=1\n",
    "        check_proof=False\n",
    "        \n",
    "        while not check_proof:\n",
    "            to_digest=self.to_digest(new_proof=new_proof,\n",
    "                                    previous_proof=previous_proof,\n",
    "                                    index=index,\n",
    "                                    data=data,\n",
    "                                    )\n",
    "            \n",
    "            hash_value=hashlib.sha3_512(to_digest).hexdigest()\n",
    "            \n",
    "            if hash_value[:4]==\"0000\":\n",
    "                check_proof=True\n",
    "            else:\n",
    "                new_proof+=1\n",
    "        return new_proof\n",
    "    "
   ]
  },
  {
   "cell_type": "code",
   "execution_count": null,
   "id": "870be36d-28f0-4fca-82f2-5fa2f81fb539",
   "metadata": {},
   "outputs": [],
   "source": [
    "\n",
    "    \n",
    "    def get_previous_block(self)->dict:\n",
    "        return self.chain[-1]\n",
    "    \n",
    "    def create_block(self, data: str, proof:int, previous_hash:str, index:int)->dict:\n",
    "        block={\n",
    "            \"index\":index,\n",
    "            \"timestamp\":str(dt.datetime.now()),\n",
    "            \"data\":data,\n",
    "            \"proof\":proof,\n",
    "            \"previous_hash\":previous_hash\n",
    "        }\n",
    "        \n",
    "    \n",
    " "
   ]
  },
  {
   "cell_type": "markdown",
   "id": "d38b90d3-0d10-4254-ad1e-4fcdfb6cae62",
   "metadata": {},
   "source": [
    "## Validating a New Block\n",
    "> When a node receives a new block, it will validate the block by checking it against a long list of criteria that must all be met; otherwise, the block is rejected."
   ]
  },
  {
   "cell_type": "code",
   "execution_count": null,
   "id": "7bf3d2ed-b4dc-45c8-84a3-4f502bd4ac5a",
   "metadata": {},
   "outputs": [],
   "source": [
    "   \n",
    "    def is_chain_valid(self)->bool:\n",
    "        current_block=self.chain[0]\n",
    "        block_index=1\n",
    "        \n",
    "        while block_index<len(self.chain):\n",
    "            next_block=self.chain[block_index]\n",
    "            \n",
    "            if next_block[\"previous_hash\"]!= self._hash(current_block):\n",
    "                return False\n",
    "            \n",
    "            current_proof=current_block[\"proof\"]\n",
    "            next_index, next_data, next_proof=(next_block[\"index\"],next_block[\"data\"],next_block[\"proof\"],)\n",
    "            \n",
    "            \n",
    "            hash_value=hashlib.sha3_512(\n",
    "                self.to_digest(new_proof=next_proof,previous_proof=current_proof, index=next_index, data=next_data,\n",
    "                              )\n",
    "            ).hexdigest()\n",
    "            if hash_value[:4]!=\"0000\":# first 4 bits of hash must be 0000\n",
    "                return False\n",
    "            \n",
    "            current_block=next_block\n",
    "            block_index+=1\n",
    "            \n",
    "        return True\n"
   ]
  }
 ],
 "metadata": {
  "kernelspec": {
   "display_name": "Python 3 (ipykernel)",
   "language": "python",
   "name": "python3"
  },
  "language_info": {
   "codemirror_mode": {
    "name": "ipython",
    "version": 3
   },
   "file_extension": ".py",
   "mimetype": "text/x-python",
   "name": "python",
   "nbconvert_exporter": "python",
   "pygments_lexer": "ipython3",
   "version": "3.9.12"
  }
 },
 "nbformat": 4,
 "nbformat_minor": 5
}
