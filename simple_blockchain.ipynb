{
 "cells": [
  {
   "cell_type": "code",
   "execution_count": 1,
   "id": "a82f45ba-a9d2-4824-896b-8597f09116de",
   "metadata": {},
   "outputs": [],
   "source": [
    "import hashlib\n",
    "import datetime"
   ]
  },
  {
   "cell_type": "markdown",
   "id": "86c52119-3ff9-4c64-b301-e1dc8c8bfe10",
   "metadata": {},
   "source": [
    "## Blockchain-"
   ]
  },
  {
   "cell_type": "code",
   "execution_count": 6,
   "id": "08f0a3f4-2bec-4524-83b5-a0987b783812",
   "metadata": {},
   "outputs": [],
   "source": [
    "class Block:\n",
    "    def __init__(self, previous_block_hash, data, timestamp):\n",
    "        self.previous_block_hash=previous_block_hash\n",
    "        self.data=data\n",
    "        self.timestamp=timestamp\n",
    "        self.hash=self.get_hash()\n",
    "        \n",
    "        \n",
    "    @staticmethod  \n",
    "    def create_Genesis_block():\n",
    "        return Block(\"0\",\"0\", datetime.datetime.now())\n",
    "    \n",
    "    \n",
    "        \n",
    "    def get_hash(self):\n",
    "        header_bin=(str(self.previous_block_hash)+str(self.data)+str(self.timestamp)).encode()\n",
    "        inner_hash=hashlib.sha3_512(header_bin).hexdigest().encode()\n",
    "        outer_hash=hashlib.sha3_512(inner_hash).hexdigest()\n",
    "        return outer_hash"
   ]
  },
  {
   "cell_type": "code",
   "execution_count": 7,
   "id": "d757bfee-a32d-46dd-a24c-7ef2433df7ff",
   "metadata": {},
   "outputs": [
    {
     "name": "stdout",
     "output_type": "stream",
     "text": [
      "2c7d3e9e1d310956e09bef1b93e96502dad0d1841d4947e3adad122682760f393d40ee9387ad8104b5ed03d52648223c708558f3c73189bb15956dc4672dc2b0\n"
     ]
    }
   ],
   "source": [
    "b1= Block.create_Genesis_block()\n",
    "print(b1.hash)"
   ]
  },
  {
   "cell_type": "code",
   "execution_count": 8,
   "id": "f4ed91d9-852a-4f5a-81e6-9a0c9689d5ef",
   "metadata": {},
   "outputs": [
    {
     "name": "stdout",
     "output_type": "stream",
     "text": [
      "---Initial block---\n",
      "Hash: 9db88400ec5ac2d50f45458d1b1df23dfa52fdc98cbb8334c1b8aae55edca2736ea9de3759ae8ab8b50df19ac36f02cdd068c981ec9de4b4f5a164de6c1e9b1c\n"
     ]
    }
   ],
   "source": [
    "Blockchain=[Block.create_Genesis_block()]\n",
    "print(\"---Initial block---\")\n",
    "print(\"Hash: %s\" %Blockchain[-1].hash)\n"
   ]
  },
  {
   "cell_type": "code",
   "execution_count": 9,
   "id": "35028738-0953-4538-be8a-6e91f7eea00d",
   "metadata": {},
   "outputs": [
    {
     "name": "stdin",
     "output_type": "stream",
     "text": [
      "num_blocks_to_add: 4\n"
     ]
    },
    {
     "name": "stdout",
     "output_type": "stream",
     "text": [
      "---Generating Blockchain---\n",
      "Block #1 created successfully\n",
      "Block #1 hash: 14bca9a050544f1b5c997bf475f086bb6c1e16ff7d0f519dd649cd3196e14ece0fc4e5d277190ba79523ef535f2c47741219546db980db59759f0c1b09c7b8bb\n",
      "Block #2 created successfully\n",
      "Block #2 hash: a367f697171403fc490bcf65a8c4978735cb18d8e7a9e2486cb6166b4081028d2a160911c2e3742975484befbc3adce1b82f26fb0fea3de3c3326b11b4264ffb\n",
      "Block #3 created successfully\n",
      "Block #3 hash: 6c1ba27805f8df44da98a759b7e12d47a9d385c4228171aa64954bd8632865009fba0a97640eee5d6178c94811eae3ab9737d9ebaaeb901a4c7d505f0384ff5c\n",
      "Block #4 created successfully\n",
      "Block #4 hash: 8496a6f5256e3da54417a86784b79060d0449aa7a882d17830ad41d1b4ffc95e9c96e410929f7b491605e5e402766a5ee3624bde0ab9780125d893fad1090dcc\n"
     ]
    }
   ],
   "source": [
    "n=int(input(\"num_blocks_to_add:\"))\n",
    "print(\"---Generating Blockchain---\")\n",
    "for i in range(1,n+1):\n",
    "    Blockchain.append(Block(Blockchain[-1].hash, \"Data!\", datetime.datetime.now()))\n",
    "    \n",
    "    print(\"Block #%d created successfully\" %i)\n",
    "    print(\"Block #%d hash: %s\"%(i,Blockchain[i].hash))\n",
    "    "
   ]
  },
  {
   "cell_type": "code",
   "execution_count": null,
   "id": "f3e49ea0-3445-4f67-8213-05b3e255de6d",
   "metadata": {},
   "outputs": [],
   "source": []
  }
 ],
 "metadata": {
  "kernelspec": {
   "display_name": "Python 3",
   "language": "python",
   "name": "python3"
  },
  "language_info": {
   "codemirror_mode": {
    "name": "ipython",
    "version": 3
   },
   "file_extension": ".py",
   "mimetype": "text/x-python",
   "name": "python",
   "nbconvert_exporter": "python",
   "pygments_lexer": "ipython3",
   "version": "3.8.8"
  }
 },
 "nbformat": 4,
 "nbformat_minor": 5
}
